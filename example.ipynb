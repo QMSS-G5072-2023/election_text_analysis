{
 "cells": [
  {
   "cell_type": "code",
   "execution_count": 1,
   "id": "9c8a2490-53b9-4775-b5fd-71d535e9af2f",
   "metadata": {},
   "outputs": [],
   "source": [
    "from election_text_analysis import download_data, read_data, analyze\n",
    "df = read_data.read_all_data()"
   ]
  },
  {
   "cell_type": "code",
   "execution_count": null,
   "id": "56482705-fe64-45a0-951b-e4966ab665db",
   "metadata": {},
   "outputs": [],
   "source": [
    "# Downloads all data necessary to analyze open-ends from 2008-2020\n",
    "#download_data.download_all()"
   ]
  },
  {
   "cell_type": "code",
   "execution_count": 2,
   "id": "6dbcff50-f6b3-45b3-8130-4831cef644f0",
   "metadata": {},
   "outputs": [
    {
     "data": {
      "text/plain": [
       "VCF0004\n",
       "1984    2257\n",
       "1986    2176\n",
       "1988    2040\n",
       "1990    1980\n",
       "1992    2485\n",
       "1994    1795\n",
       "1996    1714\n",
       "1998    1281\n",
       "2000    1807\n",
       "2002    1511\n",
       "2004    1212\n",
       "2008    2322\n",
       "2012    5914\n",
       "2016    4270\n",
       "2020    8280\n",
       "Name: count, dtype: int64"
      ]
     },
     "execution_count": 2,
     "metadata": {},
     "output_type": "execute_result"
    }
   ],
   "source": [
    "greater_than_1984 = df[df['VCF0004'] >= 1984]\n",
    "greater_than_1984['VCF0004'].value_counts().sort_index()"
   ]
  },
  {
   "cell_type": "markdown",
   "id": "3ce33978-2fcc-41b7-9b22-daea82d8993e",
   "metadata": {},
   "source": [
    "## What people dislike about the Democratic Candidate vs the Republican Candidate in 2020:"
   ]
  },
  {
   "cell_type": "code",
   "execution_count": 4,
   "id": "0d366a42-bb40-4008-9e41-652c054b31ec",
   "metadata": {},
   "outputs": [
    {
     "name": "stdout",
     "output_type": "stream",
     "text": [
      "\n",
      "\n",
      "These words occurred more often in Dem 2020 dislikes:\n",
      "        word  Dem 2020 dislikes freq  Repub 2020 dislikes freq\n",
      "0        age                7.729841                  0.219912\n",
      "1      biden                6.240370                  0.619752\n",
      "2        old                5.906523                  0.479808\n",
      "3      years                7.498716                  2.219112\n",
      "4       left                5.392912                  0.239904\n",
      "5   abortion                5.110426                  0.359856\n",
      "6      party                5.264510                  0.799680\n",
      "7     mental                4.571135                  0.419832\n",
      "8      taxes                4.725218                  0.839664\n",
      "9  socialist                3.775039                  0.019992\n",
      "\n",
      "\n",
      "These words occurred more often in Repub 2020 dislikes:\n",
      "         word  Dem 2020 dislikes freq  Repub 2020 dislikes freq\n",
      "0      racist                1.129944                 11.735306\n",
      "1      people                5.136107                 13.114754\n",
      "2     country                7.524397                 13.954418\n",
      "3        lies                0.873138                  7.057177\n",
      "4        liar                1.206985                  7.277089\n",
      "5        lack                1.438110                  7.297081\n",
      "6  everything                2.670776                  8.256697\n",
      "7       covid                0.667694                  6.117553\n",
      "8    pandemic                0.308166                  5.317873\n",
      "9        self                0.256805                  3.118752\n"
     ]
    }
   ],
   "source": [
    "dem_dislike_2020   = df[df['VCF0004'] == 2020]['Dislike About Democratic Candidate']\n",
    "repub_dislike_2020 = df[df['VCF0004'] == 2020]['Dislike About Republican Candidate']\n",
    "analyze.summarize_word_frequency_differences(dem_dislike_2020, repub_dislike_2020, group_1_label=\"Dem 2020 dislikes\", group_2_label=\"Repub 2020 dislikes\")"
   ]
  },
  {
   "cell_type": "markdown",
   "id": "aac5d753-870d-4e48-a495-1fc5d58ed03f",
   "metadata": {},
   "source": [
    "## What people dislike about the Democratic Candidate in 2020 vs 2016\n",
    "\n",
    "    "
   ]
  },
  {
   "cell_type": "code",
   "execution_count": 5,
   "id": "1f661811-2ed2-462f-a203-947a690a9472",
   "metadata": {},
   "outputs": [
    {
     "name": "stdout",
     "output_type": "stream",
     "text": [
      "\n",
      "\n",
      "These words occurred more often in 2020 Dem dislikes:\n",
      "        word  2020 Dem dislikes freq  2016 Dem dislikes freq\n",
      "0        age                7.729841                0.269750\n",
      "1      years                7.498716                1.078998\n",
      "2      biden                6.240370                0.000000\n",
      "3    country                7.524397                1.425819\n",
      "4  president                7.832563                1.888247\n",
      "5        old                5.906523                0.192678\n",
      "6       left                5.392912                0.346821\n",
      "7      party                5.264510                0.385356\n",
      "8     mental                4.571135                0.000000\n",
      "9      taxes                4.725218                0.385356\n",
      "\n",
      "\n",
      "These words occurred more often in 2016 Dem dislikes:\n",
      "            word  2020 Dem dislikes freq  2016 Dem dislikes freq\n",
      "0           liar                1.206985               10.481696\n",
      "1           lies                0.873138                6.589595\n",
      "2         emails                0.051361                5.086705\n",
      "3          trust                1.386749                6.319846\n",
      "4          email                0.000000                4.393064\n",
      "5      dishonest                0.487930                4.662813\n",
      "6     dishonesty                0.128403                3.159923\n",
      "7  untrustworthy                0.205444                2.967245\n",
      "8        scandal                0.051361                2.543353\n",
      "9        clinton                0.359527                2.658960\n"
     ]
    }
   ],
   "source": [
    "dem_dislike_2016   = df[df['VCF0004'] == 2016]['Dislike About Democratic Candidate']\n",
    "analyze.summarize_word_frequency_differences(dem_dislike_2020, dem_dislike_2016, group_1_label=\"2020 Dem dislikes\", group_2_label=\"2016 Dem dislikes\")"
   ]
  },
  {
   "cell_type": "markdown",
   "id": "0b992533-99ad-476d-8fdd-503d37f5aece",
   "metadata": {},
   "source": [
    "## What people dislike about the Republican Candidate in 2020 vs 2016"
   ]
  },
  {
   "cell_type": "code",
   "execution_count": 7,
   "id": "1d036137-ba40-46b5-af31-910268d816e1",
   "metadata": {},
   "outputs": [
    {
     "name": "stdout",
     "output_type": "stream",
     "text": [
      "\n",
      "\n",
      "These words occurred more often in 2020 Repub dislikes:\n",
      "        word  2020 Repub dislikes freq  2016 Repub dislikes freq\n",
      "0    country                 13.954418                  2.522460\n",
      "1     people                 13.114754                  5.563234\n",
      "2      covid                  6.117553                  0.000000\n",
      "3  president                  9.496202                  3.420871\n",
      "4      trump                  7.117153                  1.105736\n",
      "5       lies                  7.057177                  1.243953\n",
      "6   pandemic                  5.317873                  0.000000\n",
      "7       liar                  7.277089                  2.073255\n",
      "8   american                  4.258297                  0.621977\n",
      "9     office                  4.258297                  0.691085\n",
      "\n",
      "\n",
      "These words occurred more often in 2016 Repub dislikes:\n",
      "           word  2020 Repub dislikes freq  2016 Repub dislikes freq\n",
      "0    experience                  0.599760                  5.977885\n",
      "1         mouth                  1.939224                  3.489979\n",
      "2         views                  1.379448                  2.660677\n",
      "3         think                  4.938025                  6.081548\n",
      "4     political                  1.559376                  2.522460\n",
      "5    temperment                  0.039984                  0.967519\n",
      "6  inexperience                  0.059976                  0.932965\n",
      "7         women                  3.618553                  4.457498\n",
      "8         bigot                  0.899640                  1.727713\n",
      "9          know                  1.459416                  2.246026\n"
     ]
    }
   ],
   "source": [
    "repub_dislike_2016 = df[df['VCF0004'] == 2016]['Dislike About Republican Candidate']\n",
    "analyze.summarize_word_frequency_differences(repub_dislike_2020, repub_dislike_2016, group_1_label=\"2020 Repub dislikes\", group_2_label=\"2016 Repub dislikes\")"
   ]
  },
  {
   "cell_type": "code",
   "execution_count": null,
   "id": "0230395d-ce22-448c-9340-4edfd170b7a9",
   "metadata": {},
   "outputs": [],
   "source": []
  }
 ],
 "metadata": {
  "kernelspec": {
   "display_name": "Python 3 (ipykernel)",
   "language": "python",
   "name": "python3"
  },
  "language_info": {
   "codemirror_mode": {
    "name": "ipython",
    "version": 3
   },
   "file_extension": ".py",
   "mimetype": "text/x-python",
   "name": "python",
   "nbconvert_exporter": "python",
   "pygments_lexer": "ipython3",
   "version": "3.11.5"
  }
 },
 "nbformat": 4,
 "nbformat_minor": 5
}
